{
 "cells": [
  {
   "cell_type": "code",
   "execution_count": 148,
   "metadata": {},
   "outputs": [],
   "source": [
    "# lets start with loading pandas\n",
    "import pandas as pd\n",
    "\n",
    "# url of the Table 6. Regional Price Parities by Metropolitan Area, 2017\n",
    "# from Real Personal Income for States and Metropolitan Areas, 2017\n",
    "# Persistent link to the current data set landing page at https://www.bea.gov/data/prices-inflation/regional-price-parities-state-and-metro-area\n",
    "url = 'https://raw.githubusercontent.com/jacek-jonca/jacek-jonca.github.io/master/data/rpp0519.xlsx'\n",
    "\n",
    "df = pd.read_excel(url, sheet_name='Table 6', header=2)"
   ]
  },
  {
   "cell_type": "code",
   "execution_count": 149,
   "metadata": {},
   "outputs": [
    {
     "data": {
      "text/html": [
       "<div>\n",
       "<style scoped>\n",
       "    .dataframe tbody tr th:only-of-type {\n",
       "        vertical-align: middle;\n",
       "    }\n",
       "\n",
       "    .dataframe tbody tr th {\n",
       "        vertical-align: top;\n",
       "    }\n",
       "\n",
       "    .dataframe thead th {\n",
       "        text-align: right;\n",
       "    }\n",
       "</style>\n",
       "<table border=\"1\" class=\"dataframe\">\n",
       "  <thead>\n",
       "    <tr style=\"text-align: right;\">\n",
       "      <th></th>\n",
       "      <th>Unnamed: 0</th>\n",
       "      <th>All items</th>\n",
       "      <th>Goods</th>\n",
       "      <th>Services</th>\n",
       "      <th>Unnamed: 4</th>\n",
       "    </tr>\n",
       "  </thead>\n",
       "  <tbody>\n",
       "    <tr>\n",
       "      <th>0</th>\n",
       "      <td>NaN</td>\n",
       "      <td>NaN</td>\n",
       "      <td>NaN</td>\n",
       "      <td>Rents</td>\n",
       "      <td>Other</td>\n",
       "    </tr>\n",
       "    <tr>\n",
       "      <th>1</th>\n",
       "      <td>United States1</td>\n",
       "      <td>100.0</td>\n",
       "      <td>99.0</td>\n",
       "      <td>101.8</td>\n",
       "      <td>100.1</td>\n",
       "    </tr>\n",
       "    <tr>\n",
       "      <th>2</th>\n",
       "      <td>United States nonmetropolitan portion</td>\n",
       "      <td>87.5</td>\n",
       "      <td>94.2</td>\n",
       "      <td>63.3</td>\n",
       "      <td>93.7</td>\n",
       "    </tr>\n",
       "    <tr>\n",
       "      <th>3</th>\n",
       "      <td>Metropolitan Statistical Areas</td>\n",
       "      <td>NaN</td>\n",
       "      <td>NaN</td>\n",
       "      <td>NaN</td>\n",
       "      <td>NaN</td>\n",
       "    </tr>\n",
       "    <tr>\n",
       "      <th>4</th>\n",
       "      <td>Abilene, TX</td>\n",
       "      <td>91.2</td>\n",
       "      <td>97.4</td>\n",
       "      <td>78.7</td>\n",
       "      <td>93.5</td>\n",
       "    </tr>\n",
       "  </tbody>\n",
       "</table>\n",
       "</div>"
      ],
      "text/plain": [
       "                              Unnamed: 0  All items  Goods Services Unnamed: 4\n",
       "0                                    NaN        NaN    NaN    Rents      Other\n",
       "1                         United States1      100.0   99.0    101.8      100.1\n",
       "2  United States nonmetropolitan portion       87.5   94.2     63.3       93.7\n",
       "3         Metropolitan Statistical Areas        NaN    NaN      NaN        NaN\n",
       "4                            Abilene, TX       91.2   97.4     78.7       93.5"
      ]
     },
     "execution_count": 149,
     "metadata": {},
     "output_type": "execute_result"
    }
   ],
   "source": [
    "# lets see how it looks\n",
    "df.head()"
   ]
  },
  {
   "cell_type": "code",
   "execution_count": 150,
   "metadata": {},
   "outputs": [],
   "source": [
    "# lets clean up a bit, assign column labels from misaligned rows and have the in lower case\n",
    "df.columns = ['city', 'all', df.columns[2].lower(), df.iloc[0][3].lower(), df.iloc[0][4].lower()]"
   ]
  },
  {
   "cell_type": "code",
   "execution_count": 151,
   "metadata": {},
   "outputs": [
    {
     "data": {
      "text/html": [
       "<div>\n",
       "<style scoped>\n",
       "    .dataframe tbody tr th:only-of-type {\n",
       "        vertical-align: middle;\n",
       "    }\n",
       "\n",
       "    .dataframe tbody tr th {\n",
       "        vertical-align: top;\n",
       "    }\n",
       "\n",
       "    .dataframe thead th {\n",
       "        text-align: right;\n",
       "    }\n",
       "</style>\n",
       "<table border=\"1\" class=\"dataframe\">\n",
       "  <thead>\n",
       "    <tr style=\"text-align: right;\">\n",
       "      <th></th>\n",
       "      <th>city</th>\n",
       "      <th>all</th>\n",
       "      <th>goods</th>\n",
       "      <th>rents</th>\n",
       "      <th>other</th>\n",
       "    </tr>\n",
       "  </thead>\n",
       "  <tbody>\n",
       "    <tr>\n",
       "      <th>0</th>\n",
       "      <td>NaN</td>\n",
       "      <td>NaN</td>\n",
       "      <td>NaN</td>\n",
       "      <td>Rents</td>\n",
       "      <td>Other</td>\n",
       "    </tr>\n",
       "    <tr>\n",
       "      <th>1</th>\n",
       "      <td>United States1</td>\n",
       "      <td>100.0</td>\n",
       "      <td>99.0</td>\n",
       "      <td>101.8</td>\n",
       "      <td>100.1</td>\n",
       "    </tr>\n",
       "    <tr>\n",
       "      <th>2</th>\n",
       "      <td>United States nonmetropolitan portion</td>\n",
       "      <td>87.5</td>\n",
       "      <td>94.2</td>\n",
       "      <td>63.3</td>\n",
       "      <td>93.7</td>\n",
       "    </tr>\n",
       "    <tr>\n",
       "      <th>3</th>\n",
       "      <td>Metropolitan Statistical Areas</td>\n",
       "      <td>NaN</td>\n",
       "      <td>NaN</td>\n",
       "      <td>NaN</td>\n",
       "      <td>NaN</td>\n",
       "    </tr>\n",
       "    <tr>\n",
       "      <th>4</th>\n",
       "      <td>Abilene, TX</td>\n",
       "      <td>91.2</td>\n",
       "      <td>97.4</td>\n",
       "      <td>78.7</td>\n",
       "      <td>93.5</td>\n",
       "    </tr>\n",
       "  </tbody>\n",
       "</table>\n",
       "</div>"
      ],
      "text/plain": [
       "                                    city    all  goods  rents  other\n",
       "0                                    NaN    NaN    NaN  Rents  Other\n",
       "1                         United States1  100.0   99.0  101.8  100.1\n",
       "2  United States nonmetropolitan portion   87.5   94.2   63.3   93.7\n",
       "3         Metropolitan Statistical Areas    NaN    NaN    NaN    NaN\n",
       "4                            Abilene, TX   91.2   97.4   78.7   93.5"
      ]
     },
     "execution_count": 151,
     "metadata": {},
     "output_type": "execute_result"
    }
   ],
   "source": [
    "# now it looks much better\n",
    "df.head()"
   ]
  },
  {
   "cell_type": "code",
   "execution_count": 152,
   "metadata": {},
   "outputs": [
    {
     "data": {
      "text/html": [
       "<div>\n",
       "<style scoped>\n",
       "    .dataframe tbody tr th:only-of-type {\n",
       "        vertical-align: middle;\n",
       "    }\n",
       "\n",
       "    .dataframe tbody tr th {\n",
       "        vertical-align: top;\n",
       "    }\n",
       "\n",
       "    .dataframe thead th {\n",
       "        text-align: right;\n",
       "    }\n",
       "</style>\n",
       "<table border=\"1\" class=\"dataframe\">\n",
       "  <thead>\n",
       "    <tr style=\"text-align: right;\">\n",
       "      <th></th>\n",
       "      <th>city</th>\n",
       "      <th>all</th>\n",
       "      <th>goods</th>\n",
       "      <th>rents</th>\n",
       "      <th>other</th>\n",
       "    </tr>\n",
       "  </thead>\n",
       "  <tbody>\n",
       "    <tr>\n",
       "      <th>385</th>\n",
       "      <td>Yuba City, CA</td>\n",
       "      <td>96.6</td>\n",
       "      <td>95.0</td>\n",
       "      <td>92.9</td>\n",
       "      <td>101.5</td>\n",
       "    </tr>\n",
       "    <tr>\n",
       "      <th>386</th>\n",
       "      <td>Yuma, AZ</td>\n",
       "      <td>90.5</td>\n",
       "      <td>95.0</td>\n",
       "      <td>71.1</td>\n",
       "      <td>101.5</td>\n",
       "    </tr>\n",
       "    <tr>\n",
       "      <th>387</th>\n",
       "      <td>NaN</td>\n",
       "      <td>NaN</td>\n",
       "      <td>NaN</td>\n",
       "      <td>NaN</td>\n",
       "      <td>NaN</td>\n",
       "    </tr>\n",
       "    <tr>\n",
       "      <th>388</th>\n",
       "      <td>Maximum</td>\n",
       "      <td>130.9</td>\n",
       "      <td>115.6</td>\n",
       "      <td>218.4</td>\n",
       "      <td>117.7</td>\n",
       "    </tr>\n",
       "    <tr>\n",
       "      <th>389</th>\n",
       "      <td>Minimum</td>\n",
       "      <td>75.3</td>\n",
       "      <td>91.3</td>\n",
       "      <td>48.5</td>\n",
       "      <td>89.6</td>\n",
       "    </tr>\n",
       "    <tr>\n",
       "      <th>390</th>\n",
       "      <td>Range</td>\n",
       "      <td>55.6</td>\n",
       "      <td>24.3</td>\n",
       "      <td>169.9</td>\n",
       "      <td>28.1</td>\n",
       "    </tr>\n",
       "    <tr>\n",
       "      <th>391</th>\n",
       "      <td>Source: U.S. Bureau of Economic Analysis</td>\n",
       "      <td>NaN</td>\n",
       "      <td>NaN</td>\n",
       "      <td>NaN</td>\n",
       "      <td>NaN</td>\n",
       "    </tr>\n",
       "    <tr>\n",
       "      <th>392</th>\n",
       "      <td>1. The U.S. all items RPP is the average price...</td>\n",
       "      <td>NaN</td>\n",
       "      <td>NaN</td>\n",
       "      <td>NaN</td>\n",
       "      <td>NaN</td>\n",
       "    </tr>\n",
       "  </tbody>\n",
       "</table>\n",
       "</div>"
      ],
      "text/plain": [
       "                                                  city    all  goods  rents  \\\n",
       "385                                      Yuba City, CA   96.6   95.0   92.9   \n",
       "386                                           Yuma, AZ   90.5   95.0   71.1   \n",
       "387                                                NaN    NaN    NaN    NaN   \n",
       "388                                           Maximum   130.9  115.6  218.4   \n",
       "389                                            Minimum   75.3   91.3   48.5   \n",
       "390                                              Range   55.6   24.3  169.9   \n",
       "391           Source: U.S. Bureau of Economic Analysis    NaN    NaN    NaN   \n",
       "392  1. The U.S. all items RPP is the average price...    NaN    NaN    NaN   \n",
       "\n",
       "     other  \n",
       "385  101.5  \n",
       "386  101.5  \n",
       "387    NaN  \n",
       "388  117.7  \n",
       "389   89.6  \n",
       "390   28.1  \n",
       "391    NaN  \n",
       "392    NaN  "
      ]
     },
     "execution_count": 152,
     "metadata": {},
     "output_type": "execute_result"
    }
   ],
   "source": [
    "# and the bottom looks like this\n",
    "df.tail(8)"
   ]
  },
  {
   "cell_type": "code",
   "execution_count": 153,
   "metadata": {},
   "outputs": [],
   "source": [
    "# the first city in our dataset is Abilene, TX located in row 4 and the last city is Yuma, AZ in row 386\n",
    "# lets strip the obsolete top 3 rows and anything past row 386, we just want a list of metropolitan areas\n",
    "df = df[4:387]"
   ]
  },
  {
   "cell_type": "code",
   "execution_count": 154,
   "metadata": {},
   "outputs": [
    {
     "data": {
      "text/html": [
       "<div>\n",
       "<style scoped>\n",
       "    .dataframe tbody tr th:only-of-type {\n",
       "        vertical-align: middle;\n",
       "    }\n",
       "\n",
       "    .dataframe tbody tr th {\n",
       "        vertical-align: top;\n",
       "    }\n",
       "\n",
       "    .dataframe thead th {\n",
       "        text-align: right;\n",
       "    }\n",
       "</style>\n",
       "<table border=\"1\" class=\"dataframe\">\n",
       "  <thead>\n",
       "    <tr style=\"text-align: right;\">\n",
       "      <th></th>\n",
       "      <th>city</th>\n",
       "      <th>all</th>\n",
       "      <th>goods</th>\n",
       "      <th>rents</th>\n",
       "      <th>other</th>\n",
       "    </tr>\n",
       "  </thead>\n",
       "  <tbody>\n",
       "    <tr>\n",
       "      <th>4</th>\n",
       "      <td>Abilene, TX</td>\n",
       "      <td>91.2</td>\n",
       "      <td>97.4</td>\n",
       "      <td>78.7</td>\n",
       "      <td>93.5</td>\n",
       "    </tr>\n",
       "    <tr>\n",
       "      <th>5</th>\n",
       "      <td>Akron, OH</td>\n",
       "      <td>90.4</td>\n",
       "      <td>95.8</td>\n",
       "      <td>77.4</td>\n",
       "      <td>91.8</td>\n",
       "    </tr>\n",
       "    <tr>\n",
       "      <th>6</th>\n",
       "      <td>Albany, GA</td>\n",
       "      <td>82.7</td>\n",
       "      <td>97.2</td>\n",
       "      <td>54</td>\n",
       "      <td>93.5</td>\n",
       "    </tr>\n",
       "    <tr>\n",
       "      <th>7</th>\n",
       "      <td>Albany, OR</td>\n",
       "      <td>94.6</td>\n",
       "      <td>100.1</td>\n",
       "      <td>87.4</td>\n",
       "      <td>93.4</td>\n",
       "    </tr>\n",
       "    <tr>\n",
       "      <th>8</th>\n",
       "      <td>Albany-Schenectady-Troy, NY</td>\n",
       "      <td>100.6</td>\n",
       "      <td>98.1</td>\n",
       "      <td>103.4</td>\n",
       "      <td>101.8</td>\n",
       "    </tr>\n",
       "  </tbody>\n",
       "</table>\n",
       "</div>"
      ],
      "text/plain": [
       "                          city    all  goods  rents  other\n",
       "4                  Abilene, TX   91.2   97.4   78.7   93.5\n",
       "5                    Akron, OH   90.4   95.8   77.4   91.8\n",
       "6                   Albany, GA   82.7   97.2     54   93.5\n",
       "7                   Albany, OR   94.6  100.1   87.4   93.4\n",
       "8  Albany-Schenectady-Troy, NY  100.6   98.1  103.4  101.8"
      ]
     },
     "execution_count": 154,
     "metadata": {},
     "output_type": "execute_result"
    }
   ],
   "source": [
    "# How things look now?\n",
    "df.head()"
   ]
  },
  {
   "cell_type": "code",
   "execution_count": 155,
   "metadata": {},
   "outputs": [],
   "source": [
    "# since we deleted rows lets renumber dataset so it starts from 0 and not from 4\n",
    "df = df.reset_index(drop=True)"
   ]
  },
  {
   "cell_type": "code",
   "execution_count": 156,
   "metadata": {},
   "outputs": [
    {
     "data": {
      "text/html": [
       "<div>\n",
       "<style scoped>\n",
       "    .dataframe tbody tr th:only-of-type {\n",
       "        vertical-align: middle;\n",
       "    }\n",
       "\n",
       "    .dataframe tbody tr th {\n",
       "        vertical-align: top;\n",
       "    }\n",
       "\n",
       "    .dataframe thead th {\n",
       "        text-align: right;\n",
       "    }\n",
       "</style>\n",
       "<table border=\"1\" class=\"dataframe\">\n",
       "  <thead>\n",
       "    <tr style=\"text-align: right;\">\n",
       "      <th></th>\n",
       "      <th>city</th>\n",
       "      <th>all</th>\n",
       "      <th>goods</th>\n",
       "      <th>rents</th>\n",
       "      <th>other</th>\n",
       "    </tr>\n",
       "  </thead>\n",
       "  <tbody>\n",
       "    <tr>\n",
       "      <th>0</th>\n",
       "      <td>Abilene, TX</td>\n",
       "      <td>91.2</td>\n",
       "      <td>97.4</td>\n",
       "      <td>78.7</td>\n",
       "      <td>93.5</td>\n",
       "    </tr>\n",
       "    <tr>\n",
       "      <th>1</th>\n",
       "      <td>Akron, OH</td>\n",
       "      <td>90.4</td>\n",
       "      <td>95.8</td>\n",
       "      <td>77.4</td>\n",
       "      <td>91.8</td>\n",
       "    </tr>\n",
       "    <tr>\n",
       "      <th>2</th>\n",
       "      <td>Albany, GA</td>\n",
       "      <td>82.7</td>\n",
       "      <td>97.2</td>\n",
       "      <td>54</td>\n",
       "      <td>93.5</td>\n",
       "    </tr>\n",
       "    <tr>\n",
       "      <th>3</th>\n",
       "      <td>Albany, OR</td>\n",
       "      <td>94.6</td>\n",
       "      <td>100.1</td>\n",
       "      <td>87.4</td>\n",
       "      <td>93.4</td>\n",
       "    </tr>\n",
       "    <tr>\n",
       "      <th>4</th>\n",
       "      <td>Albany-Schenectady-Troy, NY</td>\n",
       "      <td>100.6</td>\n",
       "      <td>98.1</td>\n",
       "      <td>103.4</td>\n",
       "      <td>101.8</td>\n",
       "    </tr>\n",
       "  </tbody>\n",
       "</table>\n",
       "</div>"
      ],
      "text/plain": [
       "                          city    all  goods  rents  other\n",
       "0                  Abilene, TX   91.2   97.4   78.7   93.5\n",
       "1                    Akron, OH   90.4   95.8   77.4   91.8\n",
       "2                   Albany, GA   82.7   97.2     54   93.5\n",
       "3                   Albany, OR   94.6  100.1   87.4   93.4\n",
       "4  Albany-Schenectady-Troy, NY  100.6   98.1  103.4  101.8"
      ]
     },
     "execution_count": 156,
     "metadata": {},
     "output_type": "execute_result"
    }
   ],
   "source": [
    "# now we start from zero, literally ;-)\n",
    "df.head()"
   ]
  },
  {
   "cell_type": "code",
   "execution_count": 158,
   "metadata": {},
   "outputs": [
    {
     "name": "stdout",
     "output_type": "stream",
     "text": [
      "Where do you live now? Enter city name only.\n",
      "\n",
      "Lubbock\n",
      "\n",
      "Okay, we got that you live in  Lubbock . Let me quickly pull up data about Lubbock .\n"
     ]
    },
    {
     "data": {
      "text/html": [
       "<div>\n",
       "<style scoped>\n",
       "    .dataframe tbody tr th:only-of-type {\n",
       "        vertical-align: middle;\n",
       "    }\n",
       "\n",
       "    .dataframe tbody tr th {\n",
       "        vertical-align: top;\n",
       "    }\n",
       "\n",
       "    .dataframe thead th {\n",
       "        text-align: right;\n",
       "    }\n",
       "</style>\n",
       "<table border=\"1\" class=\"dataframe\">\n",
       "  <thead>\n",
       "    <tr style=\"text-align: right;\">\n",
       "      <th></th>\n",
       "      <th>city</th>\n",
       "      <th>all</th>\n",
       "      <th>goods</th>\n",
       "      <th>rents</th>\n",
       "      <th>other</th>\n",
       "    </tr>\n",
       "  </thead>\n",
       "  <tbody>\n",
       "    <tr>\n",
       "      <th>212</th>\n",
       "      <td>Lubbock, TX</td>\n",
       "      <td>93.3</td>\n",
       "      <td>97.8</td>\n",
       "      <td>85.5</td>\n",
       "      <td>93.5</td>\n",
       "    </tr>\n",
       "  </tbody>\n",
       "</table>\n",
       "</div>"
      ],
      "text/plain": [
       "            city   all  goods rents other\n",
       "212  Lubbock, TX  93.3   97.8  85.5  93.5"
      ]
     },
     "execution_count": 158,
     "metadata": {},
     "output_type": "execute_result"
    }
   ],
   "source": [
    "# Where do you live?\n",
    "originCity = input(\"Where do you live now? Enter city name only.\\n\\n\")\n",
    "print(\"\\nI understand that you live in \", originCity, \". Let me quickly pull up data about\", originCity,\".\")\n",
    "\n",
    "df[df['city'].str.contains(originCity)]\n"
   ]
  },
  {
   "cell_type": "code",
   "execution_count": 177,
   "metadata": {},
   "outputs": [],
   "source": [
    "#lets also save this data\n",
    "originCityCost = df[df['city'].str.contains(originCity)]"
   ]
  },
  {
   "cell_type": "code",
   "execution_count": 160,
   "metadata": {},
   "outputs": [
    {
     "name": "stdout",
     "output_type": "stream",
     "text": [
      "What city would you like to move to? (e.g. Dallas, TX)\n",
      "\n",
      "Austin\n",
      "\n",
      "Let me quickly pull up data about Austin .\n"
     ]
    },
    {
     "data": {
      "text/html": [
       "<div>\n",
       "<style scoped>\n",
       "    .dataframe tbody tr th:only-of-type {\n",
       "        vertical-align: middle;\n",
       "    }\n",
       "\n",
       "    .dataframe tbody tr th {\n",
       "        vertical-align: top;\n",
       "    }\n",
       "\n",
       "    .dataframe thead th {\n",
       "        text-align: right;\n",
       "    }\n",
       "</style>\n",
       "<table border=\"1\" class=\"dataframe\">\n",
       "  <thead>\n",
       "    <tr style=\"text-align: right;\">\n",
       "      <th></th>\n",
       "      <th>city</th>\n",
       "      <th>all</th>\n",
       "      <th>goods</th>\n",
       "      <th>rents</th>\n",
       "      <th>other</th>\n",
       "    </tr>\n",
       "  </thead>\n",
       "  <tbody>\n",
       "    <tr>\n",
       "      <th>21</th>\n",
       "      <td>Austin-Round Rock, TX</td>\n",
       "      <td>100.5</td>\n",
       "      <td>98.1</td>\n",
       "      <td>119.4</td>\n",
       "      <td>93.5</td>\n",
       "    </tr>\n",
       "  </tbody>\n",
       "</table>\n",
       "</div>"
      ],
      "text/plain": [
       "                     city    all  goods  rents other\n",
       "21  Austin-Round Rock, TX  100.5   98.1  119.4  93.5"
      ]
     },
     "execution_count": 160,
     "metadata": {},
     "output_type": "execute_result"
    }
   ],
   "source": [
    "# Where would you like to move?\n",
    "destinationCity = input(\"What city would you like to move to? (e.g. Dallas, TX)\\n\\n\")\n",
    "print(\"\\nLet me quickly pull up data about\", destinationCity,\".\")\n",
    "\n",
    "df[df['city'].str.contains(destinationCity)]\n"
   ]
  },
  {
   "cell_type": "code",
   "execution_count": 179,
   "metadata": {},
   "outputs": [],
   "source": [
    "#lets also save this data\n",
    "destinationCityCost = df[df['city'].str.contains(destinationCity)]"
   ]
  },
  {
   "cell_type": "code",
   "execution_count": 191,
   "metadata": {},
   "outputs": [
    {
     "name": "stdout",
     "output_type": "stream",
     "text": [
      "What is your current salary?\n",
      "\n",
      "$85,000\n"
     ]
    }
   ],
   "source": [
    "#Get current salary data\n",
    "currentSalary = input(\"What is your current salary?\\n\\n\")\n",
    "\n",
    "#lets sanitize it a bit just in case\n",
    "currentSalary = currentSalary.replace(',','')\n",
    "currentSalary = currentSalary.replace('$','')\n",
    "currentSalary = currentSalary.replace('USD','')\n",
    "currentSalary = currentSalary.replace(' ','')\n",
    "\n",
    "# lets make it into an integer\n",
    "currentSalary = int(currentSalary)"
   ]
  },
  {
   "cell_type": "code",
   "execution_count": 194,
   "metadata": {},
   "outputs": [],
   "source": [
    "# Because of the way numbers are internally represented in Python rounding does not always work as you would expect\n",
    "# We will instead use a custom rounding function from https://stackoverflow.com/questions/31818050/round-number-to-nearest-integer\n",
    "\n",
    "def proper_round(num, dec=0):\n",
    "    num = str(num)[:str(num).index('.')+dec+2]\n",
    "    if num[-1]>='5':\n",
    "      a = num[:-2-(not dec)]       # integer part\n",
    "      b = int(num[-2-(not dec)])+1 # decimal part\n",
    "      return float(a)+b**(-dec+1) if a and b == 10 else float(a+str(b))\n",
    "    return float(num[:-1])"
   ]
  },
  {
   "cell_type": "code",
   "execution_count": 198,
   "metadata": {},
   "outputs": [],
   "source": [
    "# Let's calculate equivalent salary in the destination city\n",
    "destinationFactor = (float(destinationCityCost['all']) / float(originCityCost['all']))\n",
    "equivalentSalary = currentSalary * destinationFactor\n",
    "\n",
    "# round it and convert to an integer\n",
    "equivalentSalary = int(proper_round(equivalentSalary))"
   ]
  },
  {
   "cell_type": "code",
   "execution_count": 199,
   "metadata": {},
   "outputs": [
    {
     "name": "stdout",
     "output_type": "stream",
     "text": [
      "You would need to make $91,559 in Austin in order to maintain the same standard of living.\n"
     ]
    }
   ],
   "source": [
    "#lets print what you would need to make and have it formatted to a comma currency format.\n",
    "print(\"You would need to make ${:0,.0f} in\".format(equivalentSalary), destinationCity, \"in order to maintain the same standard of living.\")"
   ]
  },
  {
   "cell_type": "code",
   "execution_count": null,
   "metadata": {},
   "outputs": [],
   "source": []
  }
 ],
 "metadata": {
  "kernelspec": {
   "display_name": "Python 3",
   "language": "python",
   "name": "python3"
  },
  "language_info": {
   "codemirror_mode": {
    "name": "ipython",
    "version": 3
   },
   "file_extension": ".py",
   "mimetype": "text/x-python",
   "name": "python",
   "nbconvert_exporter": "python",
   "pygments_lexer": "ipython3",
   "version": "3.7.3"
  }
 },
 "nbformat": 4,
 "nbformat_minor": 2
}
